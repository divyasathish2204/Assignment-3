{
 "cells": [
  {
   "cell_type": "code",
   "execution_count": null,
   "id": "364047ef",
   "metadata": {},
   "outputs": [],
   "source": [
    "# question 1\n",
    "# In python,a function is a named sequence of statements that belong together.\n",
    "# Their primary purpose is to help us organize programs into chunks that match how we think about the problem."
   ]
  },
  {
   "cell_type": "code",
   "execution_count": null,
   "id": "f9388059",
   "metadata": {},
   "outputs": [],
   "source": [
    "# question 2\n",
    "# In order to execute a function we need to make a function call.like print(),range(),int()"
   ]
  },
  {
   "cell_type": "code",
   "execution_count": null,
   "id": "7e6aef7d",
   "metadata": {},
   "outputs": [],
   "source": [
    "#question 3\n",
    "# compound statements create a functions.Ther can be number of ststements inside a function,\n",
    "# but they  have to be indented from a def"
   ]
  },
  {
   "cell_type": "code",
   "execution_count": 2,
   "id": "c6be9366",
   "metadata": {},
   "outputs": [
    {
     "name": "stdout",
     "output_type": "stream",
     "text": [
      "welcome to python\n"
     ]
    }
   ],
   "source": [
    "# question 4\n",
    "def fun():            #function definition\n",
    "    print(\"welcome to python\")\n",
    "fun()                 #function call which executes the function"
   ]
  },
  {
   "cell_type": "code",
   "execution_count": 6,
   "id": "8af14c93",
   "metadata": {},
   "outputs": [
    {
     "name": "stdout",
     "output_type": "stream",
     "text": [
      "inside function: welcome to python\n"
     ]
    },
    {
     "ename": "NameError",
     "evalue": "name 's' is not defined",
     "output_type": "error",
     "traceback": [
      "\u001b[1;31m---------------------------------------------------------------------------\u001b[0m",
      "\u001b[1;31mNameError\u001b[0m                                 Traceback (most recent call last)",
      "\u001b[1;32m~\\AppData\\Local\\Temp\\ipykernel_22716\\908311098.py\u001b[0m in \u001b[0;36m<module>\u001b[1;34m\u001b[0m\n\u001b[0;32m      4\u001b[0m     \u001b[0mprint\u001b[0m\u001b[1;33m(\u001b[0m\u001b[1;34m\"inside function:\"\u001b[0m\u001b[1;33m,\u001b[0m\u001b[0ms\u001b[0m\u001b[1;33m)\u001b[0m\u001b[1;33m\u001b[0m\u001b[1;33m\u001b[0m\u001b[0m\n\u001b[0;32m      5\u001b[0m \u001b[0mfun\u001b[0m\u001b[1;33m(\u001b[0m\u001b[1;33m)\u001b[0m\u001b[1;33m\u001b[0m\u001b[1;33m\u001b[0m\u001b[0m\n\u001b[1;32m----> 6\u001b[1;33m \u001b[0mprint\u001b[0m\u001b[1;33m(\u001b[0m\u001b[0ms\u001b[0m\u001b[1;33m)\u001b[0m\u001b[1;33m\u001b[0m\u001b[1;33m\u001b[0m\u001b[0m\n\u001b[0m",
      "\u001b[1;31mNameError\u001b[0m: name 's' is not defined"
     ]
    }
   ],
   "source": [
    "#QUESTION 5\n",
    "# local variable cannot used outside the function\n",
    "def fun():\n",
    "    s = \"welcome to python\"   #local scope\n",
    "    print(\"inside function:\",s)\n",
    "fun()\n",
    "print(s)      #local variables are not called outside the function call.their scope is local"
   ]
  },
  {
   "cell_type": "code",
   "execution_count": 9,
   "id": "22c4f146",
   "metadata": {},
   "outputs": [
    {
     "name": "stdout",
     "output_type": "stream",
     "text": [
      "hi iam divya\n",
      "bye iam divya\n"
     ]
    }
   ],
   "source": [
    "\"\"\"\"\n",
    "Python Global scope\n",
    "These variables are those which are defined outside any function and which are accessible throughout the program, i.e., \n",
    "inside and outside of every function.\n",
    "\"\"\"\n",
    "def name():\n",
    "    print(\"hi\", s)  #inside function\n",
    " # Global scope\n",
    "s = \"iam divya\"\n",
    "name()\n",
    "print(\"bye\", s)    #outside function"
   ]
  },
  {
   "cell_type": "code",
   "execution_count": 16,
   "id": "fa45041e",
   "metadata": {},
   "outputs": [],
   "source": [
    "# question 6 \n",
    "def amount(b,c):\n",
    "    a = b+c         #local scope.a exists only during function execution.it is its lifetime\n",
    "    return a        #when the execution of the function terminates,the local variables are destroyed return a\n",
    "amount(4,5)"
   ]
  },
  {
   "cell_type": "code",
   "execution_count": 29,
   "id": "8242d089",
   "metadata": {},
   "outputs": [
    {
     "data": {
      "text/plain": [
       "(8, 18)"
      ]
     },
     "execution_count": 29,
     "metadata": {},
     "output_type": "execute_result"
    }
   ],
   "source": [
    "# question 7\n",
    "#The built-in functions such as abs,max,poe,int,range,.....calling each of these functions generates/returns a value \n",
    "biggest = max(5,6,8,3)  #returns 8 as output\n",
    "biggest\n",
    "x = abs(3-11)+10\n",
    "biggest,x"
   ]
  },
  {
   "cell_type": "code",
   "execution_count": 23,
   "id": "7ff002cb",
   "metadata": {},
   "outputs": [
    {
     "data": {
      "text/plain": [
       "78.525"
      ]
     },
     "execution_count": 23,
     "metadata": {},
     "output_type": "execute_result"
    }
   ],
   "source": [
    "# we can create our own functions:for example\n",
    "def area(radius):\n",
    "    b = 3.141*radius**2   #evaluate the return expression,and then return it immediately as the result\n",
    "    return b\n",
    "area(5)\n",
    "# or\n",
    "def area(radius):\n",
    "    return 3.141*radius**2\n",
    "area(5)"
   ]
  },
  {
   "cell_type": "code",
   "execution_count": null,
   "id": "778158e8",
   "metadata": {},
   "outputs": [],
   "source": [
    "#question 8\n",
    "# If a function doesn't specify a return value, it returns None.\n",
    "# In an if/then conditional statement, None evaluates to False.\n",
    "def area(radius):\n",
    "    b = 3.141*radius**2   # it returns none if not given\n",
    "area(5)"
   ]
  },
  {
   "cell_type": "code",
   "execution_count": 34,
   "id": "fc430d71",
   "metadata": {},
   "outputs": [
    {
     "name": "stdout",
     "output_type": "stream",
     "text": [
      "hi iam divya\n",
      "bye iam divya\n"
     ]
    }
   ],
   "source": [
    "# question 9\n",
    "\"\"\"\n",
    "Python Global variables are those which are not defined inside any function and have a global scope\n",
    "whereas Python local variables are those which are defined inside a function \n",
    "and their scope is limited to that function only. \n",
    "In other words, we can say that local variables are accessible only inside the function in which it was initialized \n",
    "whereas the global variables are accessible throughout the program and inside every function. \n",
    "\"\"\"\n",
    "def name():\n",
    "    print(\"hi\", s)  #inside function\n",
    " # Global scope         # s is a global variable\n",
    "s = \"iam divya\"\n",
    "name()\n",
    "print(\"bye\", s)    #outside function\n"
   ]
  },
  {
   "cell_type": "code",
   "execution_count": 35,
   "id": "ec6f5ef8",
   "metadata": {},
   "outputs": [
    {
     "data": {
      "text/plain": [
       "NoneType"
      ]
     },
     "execution_count": 35,
     "metadata": {},
     "output_type": "execute_result"
    }
   ],
   "source": [
    "# question 10\n",
    "a = None     #None is a keyword used to define a null value\n",
    "type(a)\n"
   ]
  },
  {
   "cell_type": "code",
   "execution_count": 36,
   "id": "72b3447b",
   "metadata": {},
   "outputs": [
    {
     "ename": "ModuleNotFoundError",
     "evalue": "No module named 'areallyyourpetsnamederic'",
     "output_type": "error",
     "traceback": [
      "\u001b[1;31m---------------------------------------------------------------------------\u001b[0m",
      "\u001b[1;31mModuleNotFoundError\u001b[0m                       Traceback (most recent call last)",
      "\u001b[1;32m~\\AppData\\Local\\Temp\\ipykernel_22716\\2925228064.py\u001b[0m in \u001b[0;36m<module>\u001b[1;34m\u001b[0m\n\u001b[0;32m      1\u001b[0m \u001b[1;31m# question 11\u001b[0m\u001b[1;33m\u001b[0m\u001b[1;33m\u001b[0m\u001b[0m\n\u001b[1;32m----> 2\u001b[1;33m \u001b[1;32mimport\u001b[0m \u001b[0mareallyyourpetsnamederic\u001b[0m\u001b[1;33m\u001b[0m\u001b[1;33m\u001b[0m\u001b[0m\n\u001b[0m",
      "\u001b[1;31mModuleNotFoundError\u001b[0m: No module named 'areallyyourpetsnamederic'"
     ]
    }
   ],
   "source": [
    "# question 11\n",
    "import areallyyourpetsnamederic  # first we need to create our module.otherwise it shows no such module."
   ]
  },
  {
   "cell_type": "code",
   "execution_count": null,
   "id": "5d0a1eb4",
   "metadata": {},
   "outputs": [],
   "source": [
    "# question 12\n",
    "import spam   # create spam module\n",
    "def bacon():\n",
    "    print(\"hello\")\n",
    "spam.bacon()      #call the bacon function"
   ]
  },
  {
   "cell_type": "code",
   "execution_count": 39,
   "id": "c69ec96e",
   "metadata": {},
   "outputs": [
    {
     "ename": "ZeroDivisionError",
     "evalue": "division by zero",
     "output_type": "error",
     "traceback": [
      "\u001b[1;31m---------------------------------------------------------------------------\u001b[0m",
      "\u001b[1;31mZeroDivisionError\u001b[0m                         Traceback (most recent call last)",
      "\u001b[1;32m~\\AppData\\Local\\Temp\\ipykernel_22716\\2649149087.py\u001b[0m in \u001b[0;36m<module>\u001b[1;34m\u001b[0m\n\u001b[0;32m      9\u001b[0m \u001b[1;33m\u001b[0m\u001b[0m\n\u001b[0;32m     10\u001b[0m \u001b[1;31m# perform division with 0\u001b[0m\u001b[1;33m\u001b[0m\u001b[1;33m\u001b[0m\u001b[0m\n\u001b[1;32m---> 11\u001b[1;33m \u001b[0ma\u001b[0m \u001b[1;33m=\u001b[0m \u001b[0mmarks\u001b[0m \u001b[1;33m/\u001b[0m \u001b[1;36m0\u001b[0m\u001b[1;33m\u001b[0m\u001b[1;33m\u001b[0m\u001b[0m\n\u001b[0m\u001b[0;32m     12\u001b[0m \u001b[0mprint\u001b[0m\u001b[1;33m(\u001b[0m\u001b[0ma\u001b[0m\u001b[1;33m)\u001b[0m\u001b[1;33m\u001b[0m\u001b[1;33m\u001b[0m\u001b[0m\n\u001b[0;32m     13\u001b[0m \u001b[1;33m\u001b[0m\u001b[0m\n",
      "\u001b[1;31mZeroDivisionError\u001b[0m: division by zero"
     ]
    }
   ],
   "source": [
    "# question 13\n",
    "\"\"\"\n",
    "when syntactically correct code runs into an error, Python will throw an exception error.\n",
    "This exception error will crash the program if it is unhandled. \n",
    "The except clause determines how your program responds to exceptions.\n",
    "\"\"\"\n",
    "#for example:\n",
    "marks = 10000\n",
    " \n",
    "# perform division with 0   # program runs but error will come due to zerodivision error\n",
    "a = marks / 0\n",
    "print(a)"
   ]
  },
  {
   "cell_type": "code",
   "execution_count": null,
   "id": "0380789e",
   "metadata": {},
   "outputs": [],
   "source": [
    "# question 14\n",
    "The following function can help you understand the try and except block:\n",
    "\n",
    "\"\"\"\n",
    "The try and except block in Python is used to catch and handle exceptions. \n",
    "Python executes code following the try statement as a “normal” part of the program. \n",
    "The code that follows the except statement is the program’s response to any exceptions in the preceding try clause.\n",
    "\"\"\"\n",
    "def linux_interaction():\n",
    "    assert ('linux' in sys.platform), \"Function can only run on Linux systems.\"\n",
    "    print('Doing something.')\n",
    "\"\"\"\n",
    "The linux_interaction() can only run on a Linux system. The assert in this function will throw an AssertionError exception \n",
    "if you call it on an operating system other then Linux.\n",
    "You can give the function a try using the following code:\n",
    "\"\"\"\n",
    "try:\n",
    "    linux_interaction()\n",
    "except:\n",
    "    pass   \n"
   ]
  }
 ],
 "metadata": {
  "kernelspec": {
   "display_name": "Python 3 (ipykernel)",
   "language": "python",
   "name": "python3"
  },
  "language_info": {
   "codemirror_mode": {
    "name": "ipython",
    "version": 3
   },
   "file_extension": ".py",
   "mimetype": "text/x-python",
   "name": "python",
   "nbconvert_exporter": "python",
   "pygments_lexer": "ipython3",
   "version": "3.9.13"
  }
 },
 "nbformat": 4,
 "nbformat_minor": 5
}
